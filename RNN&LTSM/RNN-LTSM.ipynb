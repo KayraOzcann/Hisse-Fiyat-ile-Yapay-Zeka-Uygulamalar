{
 "cells": [
  {
   "cell_type": "code",
   "execution_count": 1,
   "id": "c7142d18",
   "metadata": {},
   "outputs": [
    {
     "data": {
      "text/html": [
       "<div>\n",
       "<style scoped>\n",
       "    .dataframe tbody tr th:only-of-type {\n",
       "        vertical-align: middle;\n",
       "    }\n",
       "\n",
       "    .dataframe tbody tr th {\n",
       "        vertical-align: top;\n",
       "    }\n",
       "\n",
       "    .dataframe thead th {\n",
       "        text-align: right;\n",
       "    }\n",
       "</style>\n",
       "<table border=\"1\" class=\"dataframe\">\n",
       "  <thead>\n",
       "    <tr style=\"text-align: right;\">\n",
       "      <th></th>\n",
       "      <th>Query</th>\n",
       "      <th>Label</th>\n",
       "    </tr>\n",
       "  </thead>\n",
       "  <tbody>\n",
       "    <tr>\n",
       "      <th>0</th>\n",
       "      <td>\" or pg_sleep  (  __TIME__  )  --</td>\n",
       "      <td>1</td>\n",
       "    </tr>\n",
       "    <tr>\n",
       "      <th>1</th>\n",
       "      <td>create user name identified by pass123 tempora...</td>\n",
       "      <td>1</td>\n",
       "    </tr>\n",
       "    <tr>\n",
       "      <th>2</th>\n",
       "      <td>AND 1  =  utl_inaddr.get_host_address   (    ...</td>\n",
       "      <td>1</td>\n",
       "    </tr>\n",
       "    <tr>\n",
       "      <th>3</th>\n",
       "      <td>select * from users where id  =  '1' or @ @1 ...</td>\n",
       "      <td>1</td>\n",
       "    </tr>\n",
       "    <tr>\n",
       "      <th>4</th>\n",
       "      <td>select * from users where id  =  1 or 1#\"  ( ...</td>\n",
       "      <td>1</td>\n",
       "    </tr>\n",
       "  </tbody>\n",
       "</table>\n",
       "</div>"
      ],
      "text/plain": [
       "                                               Query  Label\n",
       "0                  \" or pg_sleep  (  __TIME__  )  --      1\n",
       "1  create user name identified by pass123 tempora...      1\n",
       "2   AND 1  =  utl_inaddr.get_host_address   (    ...      1\n",
       "3   select * from users where id  =  '1' or @ @1 ...      1\n",
       "4   select * from users where id  =  1 or 1#\"  ( ...      1"
      ]
     },
     "execution_count": 1,
     "metadata": {},
     "output_type": "execute_result"
    }
   ],
   "source": [
    "import pandas as pd\n",
    "\n",
    "df = pd.read_csv(r'C:\\DataSet\\SQL_Injection.csv')\n",
    "df.head()"
   ]
  },
  {
   "cell_type": "code",
   "execution_count": 2,
   "id": "ddb933c3",
   "metadata": {},
   "outputs": [],
   "source": [
    "df['Query'] = pd.to_numeric(df['Query'], errors='coerce').fillna(0, downcast=\"float\")\n",
    "\n",
    "X = df.drop(columns=['Label'])\n",
    "y = df['Label']"
   ]
  },
  {
   "cell_type": "code",
   "execution_count": 3,
   "id": "a403b7ee",
   "metadata": {},
   "outputs": [],
   "source": [
    "from sklearn.model_selection import train_test_split\n",
    "X_train, X_test, y_train, y_test = train_test_split(X, y, test_size=0.2 ,random_state = 0)"
   ]
  },
  {
   "cell_type": "code",
   "execution_count": 4,
   "id": "8a52998e",
   "metadata": {},
   "outputs": [],
   "source": [
    "from keras.models import Sequential\n",
    "from keras.layers import Dense\n",
    "from keras.layers import SimpleRNN\n",
    "from keras.layers import Dropout"
   ]
  },
  {
   "cell_type": "code",
   "execution_count": 5,
   "id": "38ad8b4d",
   "metadata": {},
   "outputs": [
    {
     "name": "stdout",
     "output_type": "stream",
     "text": [
      "Epoch 1/25\n",
      "773/773 [==============================] - 4s 2ms/step - loss: 0.2372\n",
      "Epoch 2/25\n",
      "773/773 [==============================] - 2s 2ms/step - loss: 0.2287\n",
      "Epoch 3/25\n",
      "773/773 [==============================] - 2s 2ms/step - loss: 0.2277\n",
      "Epoch 4/25\n",
      "773/773 [==============================] - 2s 2ms/step - loss: 0.2271\n",
      "Epoch 5/25\n",
      "773/773 [==============================] - 2s 2ms/step - loss: 0.2269\n",
      "Epoch 6/25\n",
      "773/773 [==============================] - 2s 2ms/step - loss: 0.2265\n",
      "Epoch 7/25\n",
      "773/773 [==============================] - 2s 3ms/step - loss: 0.2264\n",
      "Epoch 8/25\n",
      "773/773 [==============================] - 3s 3ms/step - loss: 0.2263\n",
      "Epoch 9/25\n",
      "773/773 [==============================] - 2s 3ms/step - loss: 0.2261\n",
      "Epoch 10/25\n",
      "773/773 [==============================] - 2s 3ms/step - loss: 0.2261\n",
      "Epoch 11/25\n",
      "773/773 [==============================] - 2s 3ms/step - loss: 0.2262\n",
      "Epoch 12/25\n",
      "773/773 [==============================] - 3s 3ms/step - loss: 0.2261\n",
      "Epoch 13/25\n",
      "773/773 [==============================] - 2s 3ms/step - loss: 0.2260\n",
      "Epoch 14/25\n",
      "773/773 [==============================] - 3s 3ms/step - loss: 0.2259\n",
      "Epoch 15/25\n",
      "773/773 [==============================] - 3s 3ms/step - loss: 0.2258\n",
      "Epoch 16/25\n",
      "773/773 [==============================] - 3s 3ms/step - loss: 0.2258\n",
      "Epoch 17/25\n",
      "773/773 [==============================] - 3s 3ms/step - loss: 0.2258\n",
      "Epoch 18/25\n",
      "773/773 [==============================] - 2s 3ms/step - loss: 0.2258\n",
      "Epoch 19/25\n",
      "773/773 [==============================] - 3s 3ms/step - loss: 0.2258\n",
      "Epoch 20/25\n",
      "773/773 [==============================] - 3s 3ms/step - loss: 0.2257\n",
      "Epoch 21/25\n",
      "773/773 [==============================] - 2s 3ms/step - loss: 0.2258\n",
      "Epoch 22/25\n",
      "773/773 [==============================] - 3s 3ms/step - loss: 0.2257\n",
      "Epoch 23/25\n",
      "773/773 [==============================] - 2s 3ms/step - loss: 0.2257\n",
      "Epoch 24/25\n",
      "773/773 [==============================] - 3s 3ms/step - loss: 0.2258\n",
      "Epoch 25/25\n",
      "773/773 [==============================] - 3s 3ms/step - loss: 0.2257\n"
     ]
    },
    {
     "data": {
      "text/plain": [
       "<keras.callbacks.History at 0x13ea44ccca0>"
      ]
     },
     "execution_count": 5,
     "metadata": {},
     "output_type": "execute_result"
    }
   ],
   "source": [
    "model = Sequential()\n",
    "\n",
    "model.add(SimpleRNN(units = 50, activation='tanh', return_sequences=True, input_shape= (X_train.shape[1],1)))\n",
    "model.add(Dropout(0.2))\n",
    "\n",
    "model.add(SimpleRNN(units = 50, activation='tanh', return_sequences=True))\n",
    "model.add(Dropout(0.2))\n",
    "\n",
    "model.add(SimpleRNN(units = 50))\n",
    "model.add(Dropout(0.2))\n",
    "\n",
    "model.add(Dense(units = 1))\n",
    "\n",
    "model.compile(optimizer='adam', loss='mean_squared_error')\n",
    "\n",
    "model.fit(X_train, y_train, epochs=25, batch_size=32)"
   ]
  },
  {
   "cell_type": "code",
   "execution_count": 6,
   "id": "ae0a7198",
   "metadata": {},
   "outputs": [
    {
     "name": "stdout",
     "output_type": "stream",
     "text": [
      "194/194 [==============================] - 1s 2ms/step\n"
     ]
    }
   ],
   "source": [
    "import numpy as np\n",
    "y_pred = np.argmax(model.predict(X_test), axis=-1)"
   ]
  },
  {
   "cell_type": "code",
   "execution_count": 7,
   "id": "c08bef7c",
   "metadata": {},
   "outputs": [
    {
     "name": "stdout",
     "output_type": "stream",
     "text": [
      "doğrulama: 0.6369663648124192\n"
     ]
    }
   ],
   "source": [
    "from sklearn import metrics\n",
    "print(\"doğrulama:\",metrics.accuracy_score(y_test,y_pred)) "
   ]
  },
  {
   "cell_type": "code",
   "execution_count": 8,
   "id": "865a16a1",
   "metadata": {},
   "outputs": [],
   "source": [
    "####RNN###"
   ]
  },
  {
   "cell_type": "code",
   "execution_count": 9,
   "id": "7f885e46",
   "metadata": {},
   "outputs": [
    {
     "name": "stdout",
     "output_type": "stream",
     "text": [
      "Epoch 1/25\n",
      "773/773 [==============================] - 14s 7ms/step - loss: 0.2312\n",
      "Epoch 2/25\n",
      "773/773 [==============================] - 5s 7ms/step - loss: 0.2267\n",
      "Epoch 3/25\n",
      "773/773 [==============================] - 5s 7ms/step - loss: 0.2264\n",
      "Epoch 4/25\n",
      "773/773 [==============================] - 5s 7ms/step - loss: 0.2266\n",
      "Epoch 5/25\n",
      "773/773 [==============================] - 5s 7ms/step - loss: 0.2265\n",
      "Epoch 6/25\n",
      "773/773 [==============================] - 5s 7ms/step - loss: 0.2262\n",
      "Epoch 7/25\n",
      "773/773 [==============================] - 5s 7ms/step - loss: 0.2260\n",
      "Epoch 8/25\n",
      "773/773 [==============================] - 5s 7ms/step - loss: 0.2259\n",
      "Epoch 9/25\n",
      "773/773 [==============================] - 5s 6ms/step - loss: 0.2258\n",
      "Epoch 10/25\n",
      "773/773 [==============================] - 4s 5ms/step - loss: 0.2258\n",
      "Epoch 11/25\n",
      "773/773 [==============================] - 4s 5ms/step - loss: 0.2257\n",
      "Epoch 12/25\n",
      "773/773 [==============================] - 4s 5ms/step - loss: 0.2259\n",
      "Epoch 13/25\n",
      "773/773 [==============================] - 4s 5ms/step - loss: 0.2259\n",
      "Epoch 14/25\n",
      "773/773 [==============================] - 4s 5ms/step - loss: 0.2257\n",
      "Epoch 15/25\n",
      "773/773 [==============================] - 4s 5ms/step - loss: 0.2258\n",
      "Epoch 16/25\n",
      "773/773 [==============================] - 4s 6ms/step - loss: 0.2259\n",
      "Epoch 17/25\n",
      "773/773 [==============================] - 4s 5ms/step - loss: 0.2256\n",
      "Epoch 18/25\n",
      "773/773 [==============================] - 4s 5ms/step - loss: 0.2256\n",
      "Epoch 19/25\n",
      "773/773 [==============================] - 4s 5ms/step - loss: 0.2256\n",
      "Epoch 20/25\n",
      "773/773 [==============================] - 5s 6ms/step - loss: 0.2256\n",
      "Epoch 21/25\n",
      "773/773 [==============================] - 5s 6ms/step - loss: 0.2256\n",
      "Epoch 22/25\n",
      "773/773 [==============================] - 5s 6ms/step - loss: 0.2257\n",
      "Epoch 23/25\n",
      "773/773 [==============================] - 5s 6ms/step - loss: 0.2257\n",
      "Epoch 24/25\n",
      "773/773 [==============================] - 5s 7ms/step - loss: 0.2257\n",
      "Epoch 25/25\n",
      "773/773 [==============================] - 5s 7ms/step - loss: 0.2255\n"
     ]
    },
    {
     "data": {
      "text/plain": [
       "<keras.callbacks.History at 0x13eaad00760>"
      ]
     },
     "execution_count": 9,
     "metadata": {},
     "output_type": "execute_result"
    }
   ],
   "source": [
    "from keras.layers import LSTM\n",
    "\n",
    "model = Sequential()\n",
    "\n",
    "model.add(LSTM(units = 50, return_sequences = True, input_shape = (X_train.shape[1], 1)))\n",
    "model.add(Dropout(0.2))\n",
    "\n",
    "model.add(LSTM(units = 50, return_sequences = True))\n",
    "model.add(Dropout(0.2))\n",
    "\n",
    "model.add(LSTM(units = 50, return_sequences = True))\n",
    "model.add(Dropout(0.2))\n",
    "\n",
    "model.add(LSTM(units = 50))\n",
    "model.add(Dropout(0.2))\n",
    "\n",
    "model.add(Dense(units = 1))\n",
    "\n",
    "model.compile(optimizer = 'adam', loss = 'mean_squared_error')\n",
    "\n",
    "model.fit(X_train, y_train, epochs = 25, batch_size = 32)"
   ]
  },
  {
   "cell_type": "code",
   "execution_count": 10,
   "id": "645d9be5",
   "metadata": {},
   "outputs": [
    {
     "name": "stdout",
     "output_type": "stream",
     "text": [
      "194/194 [==============================] - 2s 3ms/step\n"
     ]
    }
   ],
   "source": [
    "y_pred = (model.predict(X_test) > 0.5).astype(\"int32\")"
   ]
  },
  {
   "cell_type": "code",
   "execution_count": 11,
   "id": "61900144",
   "metadata": {},
   "outputs": [
    {
     "name": "stdout",
     "output_type": "stream",
     "text": [
      "doğrulama: 0.6369663648124192\n"
     ]
    }
   ],
   "source": [
    "from sklearn import metrics\n",
    "print(\"doğrulama:\",metrics.accuracy_score(y_test,y_pred))"
   ]
  },
  {
   "cell_type": "code",
   "execution_count": 12,
   "id": "a5036ff2",
   "metadata": {},
   "outputs": [],
   "source": [
    "####LSTM###"
   ]
  }
 ],
 "metadata": {
  "kernelspec": {
   "display_name": "Python 3 (ipykernel)",
   "language": "python",
   "name": "python3"
  },
  "language_info": {
   "codemirror_mode": {
    "name": "ipython",
    "version": 3
   },
   "file_extension": ".py",
   "mimetype": "text/x-python",
   "name": "python",
   "nbconvert_exporter": "python",
   "pygments_lexer": "ipython3",
   "version": "3.9.13"
  }
 },
 "nbformat": 4,
 "nbformat_minor": 5
}
