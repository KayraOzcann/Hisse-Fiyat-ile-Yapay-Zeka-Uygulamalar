{
 "cells": [
  {
   "cell_type": "code",
   "execution_count": 46,
   "id": "597fc7ca",
   "metadata": {},
   "outputs": [
    {
     "name": "stdout",
     "output_type": "stream",
     "text": [
      "[*********************100%***********************]  1 of 1 completed\n"
     ]
    },
    {
     "data": {
      "text/html": [
       "<div>\n",
       "<style scoped>\n",
       "    .dataframe tbody tr th:only-of-type {\n",
       "        vertical-align: middle;\n",
       "    }\n",
       "\n",
       "    .dataframe tbody tr th {\n",
       "        vertical-align: top;\n",
       "    }\n",
       "\n",
       "    .dataframe thead th {\n",
       "        text-align: right;\n",
       "    }\n",
       "</style>\n",
       "<table border=\"1\" class=\"dataframe\">\n",
       "  <thead>\n",
       "    <tr style=\"text-align: right;\">\n",
       "      <th></th>\n",
       "      <th>Open</th>\n",
       "      <th>High</th>\n",
       "      <th>Low</th>\n",
       "      <th>Close</th>\n",
       "      <th>Adj Close</th>\n",
       "      <th>Volume</th>\n",
       "    </tr>\n",
       "  </thead>\n",
       "  <tbody>\n",
       "    <tr>\n",
       "      <th>0</th>\n",
       "      <td>0.936384</td>\n",
       "      <td>1.004464</td>\n",
       "      <td>0.907924</td>\n",
       "      <td>0.999442</td>\n",
       "      <td>0.851942</td>\n",
       "      <td>535796800</td>\n",
       "    </tr>\n",
       "    <tr>\n",
       "      <th>1</th>\n",
       "      <td>0.966518</td>\n",
       "      <td>0.987723</td>\n",
       "      <td>0.903460</td>\n",
       "      <td>0.915179</td>\n",
       "      <td>0.780115</td>\n",
       "      <td>512377600</td>\n",
       "    </tr>\n",
       "    <tr>\n",
       "      <th>2</th>\n",
       "      <td>0.926339</td>\n",
       "      <td>0.987165</td>\n",
       "      <td>0.919643</td>\n",
       "      <td>0.928571</td>\n",
       "      <td>0.791530</td>\n",
       "      <td>778321600</td>\n",
       "    </tr>\n",
       "    <tr>\n",
       "      <th>3</th>\n",
       "      <td>0.947545</td>\n",
       "      <td>0.955357</td>\n",
       "      <td>0.848214</td>\n",
       "      <td>0.848214</td>\n",
       "      <td>0.723033</td>\n",
       "      <td>767972800</td>\n",
       "    </tr>\n",
       "    <tr>\n",
       "      <th>4</th>\n",
       "      <td>0.861607</td>\n",
       "      <td>0.901786</td>\n",
       "      <td>0.852679</td>\n",
       "      <td>0.888393</td>\n",
       "      <td>0.757282</td>\n",
       "      <td>460734400</td>\n",
       "    </tr>\n",
       "    <tr>\n",
       "      <th>...</th>\n",
       "      <td>...</td>\n",
       "      <td>...</td>\n",
       "      <td>...</td>\n",
       "      <td>...</td>\n",
       "      <td>...</td>\n",
       "      <td>...</td>\n",
       "    </tr>\n",
       "    <tr>\n",
       "      <th>5786</th>\n",
       "      <td>128.410004</td>\n",
       "      <td>129.949997</td>\n",
       "      <td>127.430000</td>\n",
       "      <td>129.929993</td>\n",
       "      <td>129.929993</td>\n",
       "      <td>76960600</td>\n",
       "    </tr>\n",
       "    <tr>\n",
       "      <th>5787</th>\n",
       "      <td>130.279999</td>\n",
       "      <td>130.899994</td>\n",
       "      <td>124.169998</td>\n",
       "      <td>125.070000</td>\n",
       "      <td>125.070000</td>\n",
       "      <td>112117500</td>\n",
       "    </tr>\n",
       "    <tr>\n",
       "      <th>5788</th>\n",
       "      <td>126.889999</td>\n",
       "      <td>128.660004</td>\n",
       "      <td>125.080002</td>\n",
       "      <td>126.360001</td>\n",
       "      <td>126.360001</td>\n",
       "      <td>89113600</td>\n",
       "    </tr>\n",
       "    <tr>\n",
       "      <th>5789</th>\n",
       "      <td>127.129997</td>\n",
       "      <td>127.769997</td>\n",
       "      <td>124.760002</td>\n",
       "      <td>125.019997</td>\n",
       "      <td>125.019997</td>\n",
       "      <td>80962700</td>\n",
       "    </tr>\n",
       "    <tr>\n",
       "      <th>5790</th>\n",
       "      <td>126.010002</td>\n",
       "      <td>130.289993</td>\n",
       "      <td>124.889999</td>\n",
       "      <td>129.619995</td>\n",
       "      <td>129.619995</td>\n",
       "      <td>87686600</td>\n",
       "    </tr>\n",
       "  </tbody>\n",
       "</table>\n",
       "<p>5791 rows × 6 columns</p>\n",
       "</div>"
      ],
      "text/plain": [
       "            Open        High         Low       Close   Adj Close     Volume\n",
       "0       0.936384    1.004464    0.907924    0.999442    0.851942  535796800\n",
       "1       0.966518    0.987723    0.903460    0.915179    0.780115  512377600\n",
       "2       0.926339    0.987165    0.919643    0.928571    0.791530  778321600\n",
       "3       0.947545    0.955357    0.848214    0.848214    0.723033  767972800\n",
       "4       0.861607    0.901786    0.852679    0.888393    0.757282  460734400\n",
       "...          ...         ...         ...         ...         ...        ...\n",
       "5786  128.410004  129.949997  127.430000  129.929993  129.929993   76960600\n",
       "5787  130.279999  130.899994  124.169998  125.070000  125.070000  112117500\n",
       "5788  126.889999  128.660004  125.080002  126.360001  126.360001   89113600\n",
       "5789  127.129997  127.769997  124.760002  125.019997  125.019997   80962700\n",
       "5790  126.010002  130.289993  124.889999  129.619995  129.619995   87686600\n",
       "\n",
       "[5791 rows x 6 columns]"
      ]
     },
     "execution_count": 46,
     "metadata": {},
     "output_type": "execute_result"
    }
   ],
   "source": [
    "import yfinance as yf\n",
    "import pandas as pd\n",
    "import numpy as np\n",
    "import matplotlib.pyplot as plt\n",
    "\n",
    "\n",
    "df  = yf.download(\"AAPL\", start='2000-01-01', end='2023-01-09')\n",
    "\n",
    "df.reset_index(drop=True, inplace=True)\n",
    "\n",
    "df.head()\n",
    "\n",
    "df"
   ]
  },
  {
   "cell_type": "code",
   "execution_count": 47,
   "id": "8bce6b13",
   "metadata": {},
   "outputs": [],
   "source": [
    "df = df.astype('float64')"
   ]
  },
  {
   "cell_type": "code",
   "execution_count": 48,
   "id": "0d449d27",
   "metadata": {},
   "outputs": [],
   "source": [
    "X = df.drop(columns=['Adj Close'])\n",
    "y = df['Adj Close']"
   ]
  },
  {
   "cell_type": "code",
   "execution_count": 49,
   "id": "ada75304",
   "metadata": {},
   "outputs": [],
   "source": [
    "from sklearn.preprocessing import MinMaxScaler\n",
    "scaler = MinMaxScaler()\n",
    "X = pd.DataFrame(scaler.fit_transform(X),columns = X.columns)"
   ]
  },
  {
   "cell_type": "code",
   "execution_count": 50,
   "id": "2e9e4556",
   "metadata": {},
   "outputs": [],
   "source": [
    "from sklearn.model_selection import train_test_split\n",
    "X_train, X_test, y_train, y_test = train_test_split(X, y, test_size=0.2 ,random_state = 0)"
   ]
  },
  {
   "cell_type": "code",
   "execution_count": 51,
   "id": "ae033907",
   "metadata": {},
   "outputs": [],
   "source": [
    "X_train = X_train.values.reshape(X_train.shape[0],1,X_train.shape[1],1)\n",
    "X_test = X_test.values.reshape(X_test.shape[0],1,X_test.shape[1],1)"
   ]
  },
  {
   "cell_type": "code",
   "execution_count": 52,
   "id": "b23e07a9",
   "metadata": {},
   "outputs": [
    {
     "name": "stdout",
     "output_type": "stream",
     "text": [
      "Epoch 1/40\n",
      "116/116 [==============================] - 1s 3ms/step - loss: 2647.6130 - mse: 2647.6130 - mae: 28.3378 - val_loss: 2520.4785 - val_mse: 2520.4785 - val_mae: 27.7187\n",
      "Epoch 2/40\n",
      "116/116 [==============================] - 0s 2ms/step - loss: 2024.9722 - mse: 2024.9722 - mae: 24.8645 - val_loss: 1285.1951 - val_mse: 1285.1951 - val_mae: 22.8486\n",
      "Epoch 3/40\n",
      "116/116 [==============================] - 0s 2ms/step - loss: 961.0656 - mse: 961.0654 - mae: 23.6253 - val_loss: 678.4174 - val_mse: 678.4174 - val_mae: 21.0273\n",
      "Epoch 4/40\n",
      "116/116 [==============================] - 0s 2ms/step - loss: 409.3608 - mse: 409.3608 - mae: 16.5478 - val_loss: 144.9361 - val_mse: 144.9361 - val_mae: 10.1067\n",
      "Epoch 5/40\n",
      "116/116 [==============================] - 0s 2ms/step - loss: 46.5623 - mse: 46.5623 - mae: 5.1934 - val_loss: 3.5503 - val_mse: 3.5503 - val_mae: 1.6260\n",
      "Epoch 6/40\n",
      "116/116 [==============================] - 0s 2ms/step - loss: 1.2562 - mse: 1.2562 - mae: 0.8691 - val_loss: 0.6658 - val_mse: 0.6658 - val_mae: 0.6267\n",
      "Epoch 7/40\n",
      "116/116 [==============================] - 0s 2ms/step - loss: 0.5642 - mse: 0.5642 - mae: 0.5792 - val_loss: 0.5544 - val_mse: 0.5544 - val_mae: 0.5476\n",
      "Epoch 8/40\n",
      "116/116 [==============================] - 0s 2ms/step - loss: 0.4835 - mse: 0.4835 - mae: 0.5093 - val_loss: 0.4986 - val_mse: 0.4986 - val_mae: 0.4884\n",
      "Epoch 9/40\n",
      "116/116 [==============================] - 0s 2ms/step - loss: 0.4363 - mse: 0.4363 - mae: 0.4560 - val_loss: 0.4598 - val_mse: 0.4598 - val_mae: 0.4444\n",
      "Epoch 10/40\n",
      "116/116 [==============================] - 0s 2ms/step - loss: 0.4123 - mse: 0.4123 - mae: 0.4206 - val_loss: 0.4380 - val_mse: 0.4380 - val_mae: 0.4130\n",
      "Epoch 11/40\n",
      "116/116 [==============================] - 0s 2ms/step - loss: 0.3907 - mse: 0.3907 - mae: 0.3913 - val_loss: 0.4255 - val_mse: 0.4255 - val_mae: 0.3952\n",
      "Epoch 12/40\n",
      "116/116 [==============================] - 0s 2ms/step - loss: 0.3811 - mse: 0.3811 - mae: 0.3720 - val_loss: 0.4156 - val_mse: 0.4156 - val_mae: 0.3684\n",
      "Epoch 13/40\n",
      "116/116 [==============================] - 0s 2ms/step - loss: 0.3731 - mse: 0.3731 - mae: 0.3549 - val_loss: 0.4056 - val_mse: 0.4056 - val_mae: 0.3555\n",
      "Epoch 14/40\n",
      "116/116 [==============================] - 0s 2ms/step - loss: 0.3682 - mse: 0.3682 - mae: 0.3443 - val_loss: 0.4008 - val_mse: 0.4008 - val_mae: 0.3492\n",
      "Epoch 15/40\n",
      "116/116 [==============================] - 0s 2ms/step - loss: 0.3618 - mse: 0.3618 - mae: 0.3375 - val_loss: 0.4025 - val_mse: 0.4025 - val_mae: 0.3370\n",
      "Epoch 16/40\n",
      "116/116 [==============================] - 0s 2ms/step - loss: 0.3578 - mse: 0.3578 - mae: 0.3279 - val_loss: 0.3918 - val_mse: 0.3918 - val_mae: 0.3313\n",
      "Epoch 17/40\n",
      "116/116 [==============================] - 0s 2ms/step - loss: 0.3551 - mse: 0.3551 - mae: 0.3240 - val_loss: 0.3891 - val_mse: 0.3891 - val_mae: 0.3285\n",
      "Epoch 18/40\n",
      "116/116 [==============================] - 0s 2ms/step - loss: 0.3529 - mse: 0.3529 - mae: 0.3218 - val_loss: 0.3907 - val_mse: 0.3907 - val_mae: 0.3327\n",
      "Epoch 19/40\n",
      "116/116 [==============================] - 0s 2ms/step - loss: 0.3513 - mse: 0.3513 - mae: 0.3177 - val_loss: 0.3854 - val_mse: 0.3854 - val_mae: 0.3204\n",
      "Epoch 20/40\n",
      "116/116 [==============================] - 0s 2ms/step - loss: 0.3504 - mse: 0.3504 - mae: 0.3141 - val_loss: 0.3839 - val_mse: 0.3839 - val_mae: 0.3163\n",
      "Epoch 21/40\n",
      "116/116 [==============================] - 0s 2ms/step - loss: 0.3491 - mse: 0.3491 - mae: 0.3104 - val_loss: 0.3834 - val_mse: 0.3834 - val_mae: 0.3134\n",
      "Epoch 22/40\n",
      "116/116 [==============================] - 0s 2ms/step - loss: 0.3482 - mse: 0.3482 - mae: 0.3110 - val_loss: 0.3830 - val_mse: 0.3830 - val_mae: 0.3157\n",
      "Epoch 23/40\n",
      "116/116 [==============================] - 0s 2ms/step - loss: 0.3480 - mse: 0.3480 - mae: 0.3086 - val_loss: 0.3837 - val_mse: 0.3837 - val_mae: 0.3116\n",
      "Epoch 24/40\n",
      "116/116 [==============================] - 0s 2ms/step - loss: 0.3508 - mse: 0.3508 - mae: 0.3100 - val_loss: 0.3810 - val_mse: 0.3810 - val_mae: 0.3105\n",
      "Epoch 25/40\n",
      "116/116 [==============================] - 0s 2ms/step - loss: 0.3492 - mse: 0.3492 - mae: 0.3122 - val_loss: 0.3862 - val_mse: 0.3862 - val_mae: 0.3127\n",
      "Epoch 26/40\n",
      "116/116 [==============================] - 0s 2ms/step - loss: 0.3496 - mse: 0.3496 - mae: 0.3111 - val_loss: 0.3839 - val_mse: 0.3839 - val_mae: 0.3028\n",
      "Epoch 27/40\n",
      "116/116 [==============================] - 0s 2ms/step - loss: 0.3449 - mse: 0.3449 - mae: 0.3085 - val_loss: 0.3798 - val_mse: 0.3798 - val_mae: 0.3051\n",
      "Epoch 28/40\n",
      "116/116 [==============================] - 0s 2ms/step - loss: 0.3467 - mse: 0.3467 - mae: 0.3059 - val_loss: 0.3813 - val_mse: 0.3813 - val_mae: 0.3064\n",
      "Epoch 29/40\n",
      "116/116 [==============================] - 0s 2ms/step - loss: 0.3447 - mse: 0.3447 - mae: 0.3004 - val_loss: 0.3932 - val_mse: 0.3932 - val_mae: 0.3104\n",
      "Epoch 30/40\n",
      "116/116 [==============================] - 0s 2ms/step - loss: 0.3484 - mse: 0.3484 - mae: 0.3075 - val_loss: 0.3918 - val_mse: 0.3918 - val_mae: 0.3168\n",
      "Epoch 31/40\n",
      "116/116 [==============================] - 0s 2ms/step - loss: 0.3484 - mse: 0.3484 - mae: 0.3126 - val_loss: 0.3798 - val_mse: 0.3798 - val_mae: 0.3039\n",
      "Epoch 32/40\n",
      "116/116 [==============================] - 0s 2ms/step - loss: 0.3514 - mse: 0.3514 - mae: 0.3159 - val_loss: 0.3784 - val_mse: 0.3784 - val_mae: 0.3016\n",
      "Epoch 33/40\n",
      "116/116 [==============================] - 0s 2ms/step - loss: 0.3465 - mse: 0.3465 - mae: 0.3028 - val_loss: 0.4172 - val_mse: 0.4172 - val_mae: 0.3538\n",
      "Epoch 34/40\n",
      "116/116 [==============================] - 0s 2ms/step - loss: 0.3483 - mse: 0.3483 - mae: 0.3102 - val_loss: 0.3878 - val_mse: 0.3878 - val_mae: 0.2999\n",
      "Epoch 35/40\n",
      "116/116 [==============================] - 0s 2ms/step - loss: 0.3492 - mse: 0.3492 - mae: 0.3072 - val_loss: 0.3981 - val_mse: 0.3981 - val_mae: 0.3262\n",
      "Epoch 36/40\n",
      "116/116 [==============================] - 0s 2ms/step - loss: 0.3510 - mse: 0.3510 - mae: 0.3127 - val_loss: 0.3755 - val_mse: 0.3755 - val_mae: 0.2999\n",
      "Epoch 37/40\n",
      "116/116 [==============================] - 0s 2ms/step - loss: 0.3489 - mse: 0.3489 - mae: 0.3130 - val_loss: 0.4121 - val_mse: 0.4121 - val_mae: 0.3711\n",
      "Epoch 38/40\n",
      "116/116 [==============================] - 0s 2ms/step - loss: 0.3601 - mse: 0.3601 - mae: 0.3227 - val_loss: 0.3895 - val_mse: 0.3895 - val_mae: 0.2999\n",
      "Epoch 39/40\n",
      "116/116 [==============================] - 0s 2ms/step - loss: 0.3576 - mse: 0.3576 - mae: 0.3264 - val_loss: 0.3904 - val_mse: 0.3904 - val_mae: 0.3397\n",
      "Epoch 40/40\n",
      "116/116 [==============================] - 0s 2ms/step - loss: 0.3474 - mse: 0.3474 - mae: 0.3049 - val_loss: 0.3780 - val_mse: 0.3780 - val_mae: 0.3260\n"
     ]
    },
    {
     "data": {
      "text/plain": [
       "<keras.callbacks.History at 0x204308fcf70>"
      ]
     },
     "execution_count": 52,
     "metadata": {},
     "output_type": "execute_result"
    }
   ],
   "source": [
    "# For creating model and training\n",
    "import tensorflow as tf\n",
    "from tensorflow.keras.layers import Conv1D,GRU, Dense, Dropout, Bidirectional, TimeDistributed\n",
    "from tensorflow.keras.layers import MaxPooling1D, Flatten\n",
    "from tensorflow.keras.regularizers import L1, L2\n",
    "from tensorflow.keras.metrics import Accuracy\n",
    "from tensorflow.keras.metrics import RootMeanSquaredError\n",
    "\n",
    "model = tf.keras.Sequential()\n",
    "\n",
    "\n",
    "model.add(TimeDistributed(Conv1D(16, kernel_size=1, activation='relu', padding='same', input_shape=(2620,5,1))))\n",
    "model.add(TimeDistributed(MaxPooling1D(2)))\n",
    "model.add(TimeDistributed(Conv1D(32, kernel_size=1, activation='relu', padding='same')))\n",
    "model.add(TimeDistributed(MaxPooling1D(2, padding='same')))\n",
    "model.add(TimeDistributed(Conv1D(16, kernel_size=1, activation='relu', padding='same')))\n",
    "model.add(TimeDistributed(MaxPooling1D(2, padding='same')))\n",
    "model.add(TimeDistributed(Flatten()))\n",
    "\n",
    "\n",
    "model.add(Dense(1, activation='linear'))\n",
    "model.compile(optimizer='adam', loss='mse', metrics=['mse', 'mae'])\n",
    "\n",
    "model.fit(X_train, y_train, validation_data=(X_test,y_test), epochs=40,batch_size=40, verbose=1, shuffle =True)\n"
   ]
  },
  {
   "cell_type": "code",
   "execution_count": 53,
   "id": "becda152",
   "metadata": {},
   "outputs": [
    {
     "name": "stdout",
     "output_type": "stream",
     "text": [
      "37/37 [==============================] - 0s 834us/step\n"
     ]
    }
   ],
   "source": [
    "y_pred = model.predict(X_test)"
   ]
  },
  {
   "cell_type": "code",
   "execution_count": 54,
   "id": "12458f6f",
   "metadata": {},
   "outputs": [
    {
     "data": {
      "text/plain": [
       "1159"
      ]
     },
     "execution_count": 54,
     "metadata": {},
     "output_type": "execute_result"
    }
   ],
   "source": [
    "len(y_test)"
   ]
  },
  {
   "cell_type": "code",
   "execution_count": 55,
   "id": "520ed407",
   "metadata": {},
   "outputs": [],
   "source": [
    "y_pred = y_pred.reshape(y_pred.shape[0],1)"
   ]
  },
  {
   "cell_type": "code",
   "execution_count": 56,
   "id": "f8b4dc30",
   "metadata": {},
   "outputs": [
    {
     "data": {
      "text/plain": [
       "0.3780466357249206"
      ]
     },
     "execution_count": 56,
     "metadata": {},
     "output_type": "execute_result"
    }
   ],
   "source": [
    "from sklearn.metrics import mean_squared_error\n",
    "mean_squared_error(y_test, y_pred)"
   ]
  },
  {
   "cell_type": "code",
   "execution_count": 57,
   "id": "3467169a",
   "metadata": {},
   "outputs": [],
   "source": [
    "y_pred =pd.DataFrame(y_pred).set_index(y_test.index)"
   ]
  },
  {
   "cell_type": "code",
   "execution_count": 58,
   "id": "e869902c",
   "metadata": {},
   "outputs": [],
   "source": [
    "y_test = y_test.sort_index()"
   ]
  },
  {
   "cell_type": "code",
   "execution_count": 59,
   "id": "6e79f563",
   "metadata": {},
   "outputs": [],
   "source": [
    "y_pred = y_pred.sort_index()"
   ]
  },
  {
   "cell_type": "code",
   "execution_count": 60,
   "id": "2fbdd0ce",
   "metadata": {},
   "outputs": [
    {
     "data": {
      "image/png": "[encoded data removed]",
      "text/plain": [
       "<Figure size 1200x700 with 1 Axes>"
      ]
     },
     "metadata": {},
     "output_type": "display_data"
    }
   ],
   "source": [
    "import matplotlib.pyplot as plt\n",
    "\n",
    "predicted_stock_price = y_pred\n",
    "actual_stock_price = y_test\n",
    "\n",
    "plt.rcParams['figure.figsize'] = [12, 7]\n",
    "plt.rc('font', size=14)\n",
    "\n",
    "plt.plot(np.arange(1159),actual_stock_price, color=\"red\", label=\"Gerçek Apple Hisse Fiyatları\")\n",
    "plt.plot(np.arange(1159),predicted_stock_price, color=\"blue\", label=\"Tahmin Edilen Apple Hisse Fiyatları\")\n",
    "plt.title(\"APPLE Borsa Tahmini\")\n",
    "plt.xlabel(\"Zaman\")\n",
    "plt.ylabel(\"Apple Hisse Fiyat Aralığı ($)\")\n",
    "plt.legend();"
   ]
  },
  {
   "cell_type": "code",
   "execution_count": null,
   "id": "3352cfdc",
   "metadata": {},
   "outputs": [],
   "source": []
  }
 ],
 "metadata": {
  "kernelspec": {
   "display_name": "Python 3 (ipykernel)",
   "language": "python",
   "name": "python3"
  },
  "language_info": {
   "codemirror_mode": {
    "name": "ipython",
    "version": 3
   },
   "file_extension": ".py",
   "mimetype": "text/x-python",
   "name": "python",
   "nbconvert_exporter": "python",
   "pygments_lexer": "ipython3",
   "version": "3.9.13"
  }
 },
 "nbformat": 4,
 "nbformat_minor": 5
}
